{
  "nbformat": 4,
  "nbformat_minor": 0,
  "metadata": {
    "colab": {
      "provenance": [],
      "authorship_tag": "ABX9TyOgnXF58h6pJzStyzpUlvmr",
      "include_colab_link": true
    },
    "kernelspec": {
      "name": "python3",
      "display_name": "Python 3"
    },
    "language_info": {
      "name": "python"
    }
  },
  "cells": [
    {
      "cell_type": "markdown",
      "metadata": {
        "id": "view-in-github",
        "colab_type": "text"
      },
      "source": [
        "<a href=\"https://colab.research.google.com/github/Haranth/Machine-learning/blob/main/Movie_Recomendatoin_system.ipynb\" target=\"_parent\"><img src=\"https://colab.research.google.com/assets/colab-badge.svg\" alt=\"Open In Colab\"/></a>"
      ]
    },
    {
      "cell_type": "code",
      "execution_count": 2,
      "metadata": {
        "colab": {
          "base_uri": "https://localhost:8080/"
        },
        "id": "RvunXJZmhmfP",
        "outputId": "4920bb4c-3736-4f7a-e34d-8350b9290553"
      },
      "outputs": [
        {
          "output_type": "stream",
          "name": "stdout",
          "text": [
            "   userId  movieId  rating  timestamp\n",
            "0       1        1     4.0  964982703\n",
            "1       1        3     4.0  964981247\n",
            "2       1        6     4.0  964982224\n",
            "3       1       47     5.0  964983815\n",
            "4       1       50     5.0  964982931\n",
            "   movieId                               title  \\\n",
            "0        1                    Toy Story (1995)   \n",
            "1        2                      Jumanji (1995)   \n",
            "2        3             Grumpier Old Men (1995)   \n",
            "3        4            Waiting to Exhale (1995)   \n",
            "4        5  Father of the Bride Part II (1995)   \n",
            "\n",
            "                                        genres  \n",
            "0  Adventure|Animation|Children|Comedy|Fantasy  \n",
            "1                   Adventure|Children|Fantasy  \n",
            "2                               Comedy|Romance  \n",
            "3                         Comedy|Drama|Romance  \n",
            "4                                       Comedy  \n"
          ]
        }
      ],
      "source": [
        "# Import necessary libraries\n",
        "import pandas as pd\n",
        "import numpy as np\n",
        "from sklearn.metrics.pairwise import cosine_similarity\n",
        "from sklearn.metrics import mean_squared_error\n",
        "from scipy.sparse.linalg import svds\n",
        "\n",
        "# Load MovieLens dataset\n",
        "ratings = pd.read_csv(\"/content/ratings.csv\")\n",
        "movies = pd.read_csv(\"/content/movies.csv\")\n",
        "\n",
        "# Display the first few rows of the datasets\n",
        "print(ratings.head())\n",
        "print(movies.head())\n"
      ]
    },
    {
      "cell_type": "code",
      "source": [
        "# Create a user-item ratings matrix\n",
        "user_item_matrix = ratings.pivot(index='userId', columns='movieId', values='rating').fillna(0)\n",
        "\n",
        "# Convert user-item matrix into a numpy array for SVD\n",
        "user_item_matrix_np = user_item_matrix.to_numpy()\n",
        "\n",
        "# Mean normalization of ratings\n",
        "user_ratings_mean = np.mean(user_item_matrix_np, axis=1)\n",
        "user_item_matrix_demeaned = user_item_matrix_np - user_ratings_mean.reshape(-1, 1)\n",
        "\n",
        "# Perform Singular Value Decomposition\n",
        "U, sigma, Vt = svds(user_item_matrix_demeaned, k=50)\n",
        "\n",
        "# Convert sigma into a diagonal matrix\n",
        "sigma = np.diag(sigma)\n",
        "\n",
        "# Reconstruct the user-item matrix using SVD components\n",
        "predicted_ratings = np.dot(np.dot(U, sigma), Vt) + user_ratings_mean.reshape(-1, 1)\n",
        "predicted_ratings_df = pd.DataFrame(predicted_ratings, columns=user_item_matrix.columns)\n",
        "\n",
        "print(predicted_ratings_df.head())\n"
      ],
      "metadata": {
        "colab": {
          "base_uri": "https://localhost:8080/"
        },
        "id": "f9dXdviphtId",
        "outputId": "bb4a6007-625d-49cf-f659-78f7f7915bef"
      },
      "execution_count": 3,
      "outputs": [
        {
          "output_type": "stream",
          "name": "stdout",
          "text": [
            "movieId    1         2         3         4         5         6         7       \\\n",
            "0        2.167328  0.402751  0.840184 -0.076281 -0.551337  2.504091 -0.890114   \n",
            "1        0.211459  0.006658  0.033455  0.017419  0.183430 -0.062473  0.083037   \n",
            "2        0.003588  0.030518  0.046393  0.008176 -0.006247  0.107328 -0.012416   \n",
            "3        2.051549 -0.387104 -0.252199  0.087562  0.130465  0.270210  0.477835   \n",
            "4        1.344738  0.778511  0.065749  0.111744  0.273144  0.584426  0.254930   \n",
            "\n",
            "movieId    8         9         10      ...    193565    193567    193571  \\\n",
            "0       -0.026443  0.196974  1.593259  ... -0.023453 -0.019967 -0.026939   \n",
            "1        0.024158  0.049330 -0.152530  ...  0.019498  0.016777  0.022219   \n",
            "2        0.003779  0.007297 -0.059362  ...  0.005909  0.006209  0.005610   \n",
            "3        0.040313  0.025858 -0.017365  ...  0.004836  0.004172  0.005500   \n",
            "4        0.128788 -0.085541  1.023455  ... -0.008042 -0.007419 -0.008664   \n",
            "\n",
            "movieId    193573    193579    193581    193583    193585    193587    193609  \n",
            "0       -0.026939 -0.023453 -0.026939 -0.023453 -0.023453 -0.023453 -0.058732  \n",
            "1        0.022219  0.019498  0.022219  0.019498  0.019498  0.019498  0.032281  \n",
            "2        0.005610  0.005909  0.005610  0.005909  0.005909  0.005909  0.008004  \n",
            "3        0.005500  0.004836  0.005500  0.004836  0.004836  0.004836 -0.023311  \n",
            "4       -0.008664 -0.008042 -0.008664 -0.008042 -0.008042 -0.008042 -0.010127  \n",
            "\n",
            "[5 rows x 9724 columns]\n"
          ]
        }
      ]
    },
    {
      "cell_type": "code",
      "source": [
        "# Preprocessing: Convert genres into a bag-of-words representation\n",
        "movies['genres'] = movies['genres'].str.split('|')\n",
        "movies['genres'] = movies['genres'].fillna(\"\").astype('str')\n",
        "\n",
        "# Create a content matrix (genre-based)\n",
        "from sklearn.feature_extraction.text import TfidfVectorizer\n",
        "\n",
        "tfidf = TfidfVectorizer(token_pattern=r'[a-zA-Z0-9\\-]+')\n",
        "tfidf_matrix = tfidf.fit_transform(movies['genres'])\n",
        "\n",
        "# Compute the cosine similarity matrix\n",
        "cosine_sim = cosine_similarity(tfidf_matrix, tfidf_matrix)\n",
        "\n",
        "# Function to get recommendations based on movie title\n",
        "def content_based_recommendations(title, cosine_sim=cosine_sim):\n",
        "    idx = movies[movies['title'] == title].index[0]\n",
        "    sim_scores = list(enumerate(cosine_sim[idx]))\n",
        "    sim_scores = sorted(sim_scores, key=lambda x: x[1], reverse=True)\n",
        "    sim_scores = sim_scores[1:11]\n",
        "    movie_indices = [i[0] for i in sim_scores]\n",
        "    return movies['title'].iloc[movie_indices]\n",
        "\n",
        "# Example recommendation based on a movie title\n",
        "print(content_based_recommendations('Toy Story (1995)'))\n"
      ],
      "metadata": {
        "colab": {
          "base_uri": "https://localhost:8080/"
        },
        "id": "DifD4Ro2jGDy",
        "outputId": "c20bdf84-152e-4773-a8cf-a5b9f7219857"
      },
      "execution_count": 4,
      "outputs": [
        {
          "output_type": "stream",
          "name": "stdout",
          "text": [
            "1706                                          Antz (1998)\n",
            "2355                                   Toy Story 2 (1999)\n",
            "2809       Adventures of Rocky and Bullwinkle, The (2000)\n",
            "3000                     Emperor's New Groove, The (2000)\n",
            "3568                                Monsters, Inc. (2001)\n",
            "6194                                     Wild, The (2006)\n",
            "6486                               Shrek the Third (2007)\n",
            "6948                       Tale of Despereaux, The (2008)\n",
            "7760    Asterix and the Vikings (Astérix et les Viking...\n",
            "8219                                         Turbo (2013)\n",
            "Name: title, dtype: object\n"
          ]
        }
      ]
    },
    {
      "cell_type": "code",
      "source": [
        "def hybrid_recommendations(user_id, movie_title, predicted_ratings_df=predicted_ratings_df, cosine_sim=cosine_sim):\n",
        "    # Get collaborative filtering recommendations\n",
        "    user_ratings = predicted_ratings_df.loc[user_id].sort_values(ascending=False)\n",
        "    collaborative_recommendations = user_ratings.index[:10]\n",
        "\n",
        "    # Get content-based filtering recommendations\n",
        "    content_recommendations = content_based_recommendations(movie_title, cosine_sim)\n",
        "\n",
        "    # Combine recommendations\n",
        "    hybrid_recs = set(collaborative_recommendations).union(set(content_recommendations))\n",
        "    return list(hybrid_recs)\n",
        "\n",
        "# Example hybrid recommendation for a user and a movie title\n",
        "print(hybrid_recommendations(1, 'Toy Story (1995)'))\n"
      ],
      "metadata": {
        "colab": {
          "base_uri": "https://localhost:8080/"
        },
        "id": "oNQxd9lUjakJ",
        "outputId": "379c9154-9182-4fbe-a1c5-f73b338663ba"
      },
      "execution_count": 5,
      "outputs": [
        {
          "output_type": "stream",
          "name": "stdout",
          "text": [
            "[48516, 91529, 'Turbo (2013)', 2571, 'Asterix and the Vikings (Astérix et les Vikings) (2006)', 2959, 'Tale of Despereaux, The (2008)', 'Shrek the Third (2007)', 'Monsters, Inc. (2001)', 74458, 79132, 'Toy Story 2 (1999)', 'Wild, The (2006)', 'Adventures of Rocky and Bullwinkle, The (2000)', 99114, 'Antz (1998)', \"Emperor's New Groove, The (2000)\", 68157, 318, 58559]\n"
          ]
        }
      ]
    }
  ]
}